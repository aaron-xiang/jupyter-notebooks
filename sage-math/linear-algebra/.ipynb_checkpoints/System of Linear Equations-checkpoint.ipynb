{
 "cells": [
  {
   "cell_type": "markdown",
   "metadata": {},
   "source": [
    "## Example 1\n",
    "\n",
    "$$\n",
    "\\begin{align}\n",
    "x_2 + 4_3 &= 5 \\\\\n",
    "x_1 + 3x_2 + 5x_3 &= -2 \\\\\n",
    "3x_1 + 7x_2 + 7x_3 &= 6 \\\\\n",
    "\\end{align}\n",
    "$$"
   ]
  },
  {
   "cell_type": "code",
   "execution_count": 1,
   "metadata": {},
   "outputs": [
    {
     "data": {
      "text/plain": [
       "[ 0  1  4| 5]\n",
       "[ 1  3  5|-2]\n",
       "[ 3  7  7| 6]"
      ]
     },
     "execution_count": 1,
     "metadata": {},
     "output_type": "execute_result"
    }
   ],
   "source": [
    "A = matrix(QQ, 3, 3, [\n",
    "    0, 1, 4,\n",
    "    1, 3, 5,\n",
    "    3, 7, 7\n",
    "])\n",
    "b = vector(QQ, [5, -2, 6])\n",
    "M = A.augment(b, subdivide=True)\n",
    "M"
   ]
  },
  {
   "cell_type": "code",
   "execution_count": 2,
   "metadata": {},
   "outputs": [
    {
     "data": {
      "text/plain": [
       "[ 1  0 -7| 0]\n",
       "[ 0  1  4| 0]\n",
       "[ 0  0  0| 1]"
      ]
     },
     "execution_count": 2,
     "metadata": {},
     "output_type": "execute_result"
    }
   ],
   "source": [
    "M.rref()"
   ]
  },
  {
   "cell_type": "code",
   "execution_count": 3,
   "metadata": {},
   "outputs": [
    {
     "data": {
      "text/plain": [
       "[ 1  3  5|-2]\n",
       "[ 0  1  4| 5]\n",
       "[ 3  7  7| 6]"
      ]
     },
     "execution_count": 3,
     "metadata": {},
     "output_type": "execute_result"
    }
   ],
   "source": [
    "M.swap_rows(0, 1)\n",
    "M"
   ]
  },
  {
   "cell_type": "code",
   "execution_count": 4,
   "metadata": {},
   "outputs": [
    {
     "data": {
      "text/plain": [
       "[ 1  3  5|-2]\n",
       "[ 0  1  4| 5]\n",
       "[ 0 -2 -8|12]"
      ]
     },
     "execution_count": 4,
     "metadata": {},
     "output_type": "execute_result"
    }
   ],
   "source": [
    "M.add_multiple_of_row(2, 0, -3)\n",
    "M"
   ]
  },
  {
   "cell_type": "markdown",
   "metadata": {},
   "source": [
    "## Example 2\n",
    "$$\n",
    "\\begin{align}\n",
    "x_1 + 2x_2 + 2x_3 &= 4 \\\\\n",
    "x_1 + 3x_2 + 3x_3 &= 5 \\\\\n",
    "2x_1 + 6x_2 + 5x_3 &= 6 \\\\\n",
    "\\end{align}\n",
    "$$"
   ]
  },
  {
   "cell_type": "code",
   "execution_count": null,
   "metadata": {},
   "outputs": [],
   "source": []
  }
 ],
 "metadata": {
  "kernelspec": {
   "display_name": "SageMath 9.0",
   "language": "sage",
   "name": "sagemath"
  },
  "language_info": {
   "codemirror_mode": {
    "name": "ipython",
    "version": 3
   },
   "file_extension": ".py",
   "mimetype": "text/x-python",
   "name": "python",
   "nbconvert_exporter": "python",
   "pygments_lexer": "ipython3",
   "version": "3.7.6"
  }
 },
 "nbformat": 4,
 "nbformat_minor": 2
}
